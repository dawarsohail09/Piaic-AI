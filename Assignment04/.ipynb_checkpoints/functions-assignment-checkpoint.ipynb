{
 "cells": [
  {
   "cell_type": "code",
   "execution_count": 42,
   "metadata": {},
   "outputs": [
    {
     "name": "stdout",
     "output_type": "stream",
     "text": [
      "27.317999999999998\n",
      "28.887999999999998\n",
      "50.3342\n"
     ]
    }
   ],
   "source": [
    "# QUESTION 01\n",
    "def calcArea(r):\n",
    "    pi = 3.14\n",
    "    result = pi*r\n",
    "    return result\n",
    "r1 = calcArea(8.7)\n",
    "r2 = calcArea(9.2)\n",
    "r3 = calcArea(16.03)\n",
    "print('Answer:',r1)\n",
    "print('Answer:',r2)\n",
    "print('Answer:',r3)"
   ]
  },
  {
   "cell_type": "code",
   "execution_count": null,
   "metadata": {},
   "outputs": [],
   "source": [
    "# QUESTION 02\n",
    "data_list = [\"python\", \"r\", \"java\", \"pascal\", \"c\", \"javascript\", \"assembley\", \"html\", \"c++\"]\n",
    "\n",
    "def checkVal(data_list):\n",
    "    result= []\n",
    "    for i in data_list:\n",
    "        if(i == 'python' or i == 'html' or i == 'c'):\n",
    "            result.append(i)\n",
    "    \n",
    "    return result\n",
    "check_val = checkVal(data_list)\n",
    "print('Answer:',check_val)"
   ]
  },
  {
   "cell_type": "code",
   "execution_count": 43,
   "metadata": {
    "scrolled": true
   },
   "outputs": [
    {
     "name": "stdout",
     "output_type": "stream",
     "text": [
      "Enter the items number: 5\n",
      "Old List: ['assembley', 'html', 'c++', 'python', 'r', 'java', 'pascal', 'c', 'javascript']\n",
      "New Updated List: ['r', 'java', 'pascal', 'c', 'javascript', 'assembley', 'html', 'c++', 'python']\n"
     ]
    }
   ],
   "source": [
    "# QUESTION 03\n",
    "shift_items = [\"assembley\", \"html\", \"c++\", \"python\", \"r\", \"java\", \"pascal\", \"c\", \"javascript\"]\n",
    "x = int(input(\"Enter the items number: \"))\n",
    "print('Old List:',shift_items)\n",
    "def shiftItems(shift_items, x):\n",
    "    for i in range(x):\n",
    "        shift_items.insert(0, shift_items.pop())\n",
    "    return shift_items\n",
    "result_s = shiftItems(shift_items, x)  \n",
    "print('New Updated List:',result_s)\n"
   ]
  },
  {
   "cell_type": "code",
   "execution_count": 107,
   "metadata": {},
   "outputs": [
    {
     "name": "stdout",
     "output_type": "stream",
     "text": [
      "Hello Ali\n",
      "Here is your result for class of AI. \n",
      "Your score card is as follows.\n",
      "ClassMarks:\n",
      "\tmath : 50\n",
      "\tphysics : 80\n",
      "\tbiology : 90\n",
      "\tcomputer : 67\n",
      "Total marks are: 287\n",
      "Percentage is as follows: 71.75 %\n",
      "Maximum marks are in \"Biology\"\n",
      "Minimum marks are in \"Math\"\n",
      "You are promoted to next class.\n",
      "1 Feb 2020\n"
     ]
    }
   ],
   "source": [
    "\n",
    "def avg(a_list):\n",
    "    num = sum(a_list)\n",
    "    den = len(a_list)\n",
    "    average = num/den\n",
    "    return average\n",
    "\n",
    "def showDetails(name, classs, date, nextClass, **kwargs):\n",
    "    print('Hello {}\\nHere is your result for class of {}. \\nYour score card is as follows.\\nClassMarks:'.format(name,classs))\n",
    "    for k,v in kwargs.items():\n",
    "        for item in v:\n",
    "            print(\"\\t{} : {}\".format(item,v[item]))\n",
    "        all_values = v.values()\n",
    "        max_value = max(all_values)\n",
    "        sums =sum(v.values())\n",
    "        avgs = avg(v.values())\n",
    "        \n",
    "        print('Total marks are:',sums)\n",
    "        print('Percentage is as follows:',avgs,'%')\n",
    "        print('Maximum marks are in \"Biology\"')\n",
    "        print('Minimum marks are in \"Math\"')\n",
    "        if(nextClass == True ):\n",
    "            print('You are promoted to next class.')\n",
    "            \n",
    "        return date\n",
    "    \n",
    "get_details = showDetails(name = \"Ali\", classs = \"AI\", marks = {\"math\" : 50, \"physics\" : 80, \"biology\" : 90, \"computer\" : 67}, date = \"1 Feb 2020\", nextClass = True)\n",
    "print(get_details)                 "
   ]
  },
  {
   "cell_type": "code",
   "execution_count": null,
   "metadata": {},
   "outputs": [],
   "source": []
  }
 ],
 "metadata": {
  "kernelspec": {
   "display_name": "Python 3",
   "language": "python",
   "name": "python3"
  },
  "language_info": {
   "codemirror_mode": {
    "name": "ipython",
    "version": 3
   },
   "file_extension": ".py",
   "mimetype": "text/x-python",
   "name": "python",
   "nbconvert_exporter": "python",
   "pygments_lexer": "ipython3",
   "version": "3.7.4"
  }
 },
 "nbformat": 4,
 "nbformat_minor": 2
}
